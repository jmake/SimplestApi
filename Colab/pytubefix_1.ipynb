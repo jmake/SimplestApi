{
  "cells": [
    {
      "cell_type": "code",
      "source": [],
      "metadata": {
        "id": "n4KNgfZBLxJ1"
      },
      "execution_count": 12,
      "outputs": []
    },
    {
      "cell_type": "code",
      "source": [
        "#@title authenticate_user\n",
        "from google.colab import auth\n",
        "auth.authenticate_user()"
      ],
      "metadata": {
        "cellView": "form",
        "id": "d_vEtpG3lOCa"
      },
      "execution_count": 13,
      "outputs": []
    },
    {
      "cell_type": "code",
      "source": [],
      "metadata": {
        "id": "32Pn-W4blOf1"
      },
      "execution_count": 1,
      "outputs": []
    },
    {
      "cell_type": "code",
      "source": [
        "#@title drive.mount\n",
        "from google.colab import drive\n",
        "drive.mount('/content/drive')"
      ],
      "metadata": {
        "id": "P-oWNIjrLxcg",
        "colab": {
          "base_uri": "https://localhost:8080/"
        },
        "cellView": "form",
        "outputId": "7e1f5e1a-ec13-4462-e169-c6aa450d6b34"
      },
      "execution_count": 2,
      "outputs": [
        {
          "output_type": "stream",
          "name": "stdout",
          "text": [
            "Drive already mounted at /content/drive; to attempt to forcibly remount, call drive.mount(\"/content/drive\", force_remount=True).\n"
          ]
        }
      ]
    },
    {
      "cell_type": "code",
      "source": [],
      "metadata": {
        "id": "nlhal8gnlQgF"
      },
      "execution_count": 2,
      "outputs": []
    },
    {
      "cell_type": "code",
      "source": [
        "#@title pytubefix\n",
        "!pip install pytubefix\n",
        "!rm /content/drive/MyDrive/Colab\\ Notebooks/temp_video.mp4"
      ],
      "metadata": {
        "id": "JEfe2HTSH-8O",
        "colab": {
          "base_uri": "https://localhost:8080/"
        },
        "outputId": "ca68af77-0bf1-496a-d649-9e09e8040e15"
      },
      "execution_count": 3,
      "outputs": [
        {
          "output_type": "stream",
          "name": "stdout",
          "text": [
            "Requirement already satisfied: pytubefix in /usr/local/lib/python3.10/dist-packages (8.2.0)\n"
          ]
        }
      ]
    },
    {
      "cell_type": "code",
      "source": [],
      "metadata": {
        "id": "R2UBkuvrH_F6"
      },
      "execution_count": 3,
      "outputs": []
    },
    {
      "cell_type": "code",
      "execution_count": 16,
      "metadata": {
        "colab": {
          "base_uri": "https://localhost:8080/",
          "height": 70
        },
        "id": "Dara-cAMNXvu",
        "outputId": "4dc8a9b0-61d8-4fd0-ea6c-12d15dc8321c",
        "cellView": "form"
      },
      "outputs": [
        {
          "output_type": "stream",
          "name": "stdout",
          "text": [
            "Video ID: ··········\n",
            "title:'Yang Zhe 200kg Snatch WR | 2020 AWC'\n"
          ]
        },
        {
          "output_type": "execute_result",
          "data": {
            "text/plain": [
              "'/content/temp_video.mp4'"
            ],
            "application/vnd.google.colaboratory.intrinsic+json": {
              "type": "string"
            }
          },
          "metadata": {},
          "execution_count": 16
        }
      ],
      "source": [
        "#@title Download\n",
        "import time\n",
        "from pytubefix import YouTube\n",
        "from pytubefix.cli import on_progress\n",
        "\n",
        "import getpass\n",
        "\n",
        "# Prompt the user to enter the secret\n",
        "video_id = getpass.getpass(\"Video ID: \")\n",
        "\n",
        "url = f\"https://www.youtube.com/watch?v={video_id}\"\n",
        "\n",
        "yt = YouTube(url, on_progress_callback = on_progress)\n",
        "print(f\"title:'{yt.title}'\")\n",
        "\n",
        "ys = yt.streams.get_highest_resolution()\n",
        "ys.download(filename=\"temp_video.mp4\")\n"
      ]
    },
    {
      "cell_type": "code",
      "execution_count": 5,
      "metadata": {
        "id": "OtzThLGgNXzI",
        "colab": {
          "base_uri": "https://localhost:8080/"
        },
        "cellView": "form",
        "outputId": "add81061-51d5-46ce-abf7-d366b46cb056"
      },
      "outputs": [
        {
          "output_type": "stream",
          "name": "stdout",
          "text": [
            "-rw------- 1 root root 1835131 Nov  2 02:01 '/content/drive/MyDrive/Colab Notebooks/temp_video.mp4'\n"
          ]
        }
      ],
      "source": [
        "#@title temp_video.mp4\n",
        "!cp temp_video.mp4 /content/drive/MyDrive/Colab\\ Notebooks\n",
        "!ls -la /content/drive/MyDrive/Colab\\ Notebooks/*.mp4"
      ]
    },
    {
      "cell_type": "code",
      "source": [],
      "metadata": {
        "id": "qULLtQEHe3YF"
      },
      "execution_count": 5,
      "outputs": []
    },
    {
      "cell_type": "code",
      "source": [
        "#@title Authenticate and create Drive service\n",
        "from google.colab import auth\n",
        "from googleapiclient.discovery import build\n",
        "from googleapiclient.http import MediaFileUpload\n",
        "\n",
        "# Authenticate the user\n",
        "auth.authenticate_user()\n",
        "drive_service = build('drive', 'v3')\n",
        "\n",
        "# Step 3: Upload the video file\n",
        "def upload_file(file_path):\n",
        "    file_metadata = {\n",
        "        'name': 'temp_video.mp4',  # Change to your desired file name\n",
        "        'mimeType': 'video/mp4'\n",
        "    }\n",
        "\n",
        "    media = MediaFileUpload(file_path, mimetype='video/mp4')\n",
        "\n",
        "    # Call the Drive API to upload the file\n",
        "    file = drive_service.files().create(\n",
        "        body=file_metadata,\n",
        "        media_body=media,\n",
        "        fields='id'\n",
        "    ).execute()\n",
        "\n",
        "    print(f\"File ID: '{file.get('id')}'\")\n",
        "    return file.get('id')\n",
        "\n",
        "# Step 4: Make the file public\n",
        "def make_file_public(file_id):\n",
        "    user_permission = {\n",
        "        'type': 'anyone',\n",
        "        'role': 'reader',\n",
        "    }\n",
        "    drive_service.permissions().create(\n",
        "        fileId=file_id,\n",
        "        body=user_permission\n",
        "    ).execute()\n",
        "\n",
        "# Step 5: Get the shareable link\n",
        "def get_shareable_link(file_id):\n",
        "    return f\"https://drive.google.com/file/d/{file_id}/view?usp=sharing\"\n",
        "\n",
        "# Usage\n",
        "file_id = upload_file('/content/temp_video.mp4')  # Upload your video file\n",
        "make_file_public(file_id)  # Make the file public\n",
        "shareable_link = get_shareable_link(file_id)  # Generate the shareable link\n",
        "print('Shareable Link:', shareable_link)\n"
      ],
      "metadata": {
        "colab": {
          "base_uri": "https://localhost:8080/"
        },
        "id": "PL0MEl_TdHk9",
        "outputId": "2b56930e-3b9c-453c-eaab-b584c0272b54",
        "cellView": "form"
      },
      "execution_count": 6,
      "outputs": [
        {
          "output_type": "stream",
          "name": "stdout",
          "text": [
            "File ID: '18W0wPHqlrQDQQEdpUIoOKCfIaOF3WJ4e'\n",
            "Shareable Link: https://drive.google.com/file/d/18W0wPHqlrQDQQEdpUIoOKCfIaOF3WJ4e/view?usp=sharing\n"
          ]
        }
      ]
    },
    {
      "cell_type": "code",
      "source": [],
      "metadata": {
        "id": "VrfpTzXqd6LG"
      },
      "execution_count": 6,
      "outputs": []
    }
  ],
  "metadata": {
    "colab": {
      "provenance": []
    },
    "kernelspec": {
      "display_name": "Python 3",
      "name": "python3"
    },
    "language_info": {
      "name": "python"
    }
  },
  "nbformat": 4,
  "nbformat_minor": 0
}